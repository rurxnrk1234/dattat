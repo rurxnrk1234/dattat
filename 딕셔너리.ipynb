{
 "cells": [
  {
   "cell_type": "code",
   "execution_count": 6,
   "id": "f857f950",
   "metadata": {},
   "outputs": [],
   "source": [
    "csb = {\"이름\" : \"홍길동\", \"나이\" : 20, \"키\" : 168}\n",
    "\n",
    "class1_4 = {\"이름\" : [\"홍길동\", \"김철수\", \"최영희\"],\n",
    "           \"나이\" : [20, 21, 22],\n",
    "           \"키\" : [168,177,204]}"
   ]
  },
  {
   "cell_type": "code",
   "execution_count": 7,
   "id": "a6b18f6f",
   "metadata": {},
   "outputs": [
    {
     "data": {
      "text/plain": [
       "['홍길동', '김철수', '최영희']"
      ]
     },
     "execution_count": 7,
     "metadata": {},
     "output_type": "execute_result"
    }
   ],
   "source": [
    "class1_4[\"이름\"]"
   ]
  },
  {
   "cell_type": "code",
   "execution_count": 11,
   "id": "d0e42ba5",
   "metadata": {},
   "outputs": [
    {
     "data": {
      "text/plain": [
       "{'이름': ['홍길동', '김철수', '최영희'],\n",
       " '나이': [20, 21, 22],\n",
       " '키': [168, 177, 204],\n",
       " '발 사이즈': [290, 275, 240]}"
      ]
     },
     "execution_count": 11,
     "metadata": {},
     "output_type": "execute_result"
    }
   ],
   "source": [
    "class1_4[\"발 사이즈\"] = [290, 275, 240]\n",
    "class1_4"
   ]
  },
  {
   "cell_type": "code",
   "execution_count": 12,
   "id": "e8a8d4ee",
   "metadata": {},
   "outputs": [
    {
     "data": {
      "text/plain": [
       "{'이름': ['홍길동', '김철수', '최영희'], '나이': [20, 21, 22], '키': [168, 177, 204]}"
      ]
     },
     "execution_count": 12,
     "metadata": {},
     "output_type": "execute_result"
    }
   ],
   "source": [
    "del class1_4[\"발 사이즈\"]\n",
    "class1_4"
   ]
  },
  {
   "cell_type": "code",
   "execution_count": 13,
   "id": "38f7a93e",
   "metadata": {},
   "outputs": [
    {
     "data": {
      "text/plain": [
       "dict_keys(['이름', '나이', '키'])"
      ]
     },
     "execution_count": 13,
     "metadata": {},
     "output_type": "execute_result"
    }
   ],
   "source": [
    "class1_4.keys()"
   ]
  },
  {
   "cell_type": "code",
   "execution_count": 14,
   "id": "1180ebab",
   "metadata": {},
   "outputs": [
    {
     "data": {
      "text/plain": [
       "dict_values([['홍길동', '김철수', '최영희'], [20, 21, 22], [168, 177, 204]])"
      ]
     },
     "execution_count": 14,
     "metadata": {},
     "output_type": "execute_result"
    }
   ],
   "source": [
    "class1_4.values()"
   ]
  },
  {
   "cell_type": "code",
   "execution_count": 15,
   "id": "a5970701",
   "metadata": {},
   "outputs": [
    {
     "name": "stdout",
     "output_type": "stream",
     "text": [
      "이름\n",
      "나이\n",
      "키\n"
     ]
    }
   ],
   "source": [
    "for i in class1_4:\n",
    "    print(i)"
   ]
  },
  {
   "cell_type": "code",
   "execution_count": 16,
   "id": "7d5e422a",
   "metadata": {},
   "outputs": [
    {
     "data": {
      "text/plain": [
       "False"
      ]
     },
     "execution_count": 16,
     "metadata": {},
     "output_type": "execute_result"
    }
   ],
   "source": [
    "\"홍길동\" in class1_4"
   ]
  },
  {
   "cell_type": "markdown",
   "id": "799fd78c",
   "metadata": {},
   "source": [
    "### class1_4의 \"이름\"key에 할당된 value들을 전부 성을 뺀 이름들로 출력하고 싶습니다. \n",
    "- 홍길동>길동\n",
    "- 김철수>철수\n",
    "- 김영희>영희"
   ]
  },
  {
   "cell_type": "code",
   "execution_count": 25,
   "id": "4d0426a7",
   "metadata": {},
   "outputs": [
    {
     "name": "stdout",
     "output_type": "stream",
     "text": [
      "길동\n",
      "철수\n",
      "영희\n"
     ]
    }
   ],
   "source": [
    "new_names = []\n",
    "for i in class1_4[\"이름\"]:\n",
    "    print(i[1:])"
   ]
  },
  {
   "cell_type": "code",
   "execution_count": null,
   "id": "75107d01",
   "metadata": {},
   "outputs": [],
   "source": [
    "new_names = []\n",
    "for i in class1_4[\"이름\"]:\n",
    "    new_name.append(i[1:])\n",
    "class1_4[\"이름\"] = new_name\n",
    "class1_4"
   ]
  },
  {
   "cell_type": "code",
   "execution_count": 26,
   "id": "030c5b2d",
   "metadata": {},
   "outputs": [
    {
     "data": {
      "text/plain": [
       "{'이름': ['길동', '철수', '영희'], '나이': [20, 21, 22], '키': [168, 177, 204]}"
      ]
     },
     "execution_count": 26,
     "metadata": {},
     "output_type": "execute_result"
    }
   ],
   "source": [
    "class1_4[\"이름\"]=[\"길동\", \"철수\", \"영희\"]\n",
    "class1_4"
   ]
  },
  {
   "cell_type": "code",
   "execution_count": 28,
   "id": "808aea9e",
   "metadata": {},
   "outputs": [
    {
     "data": {
      "text/plain": [
       "[0, 1, 4, 9, 16, 25, 36, 49, 64, 81]"
      ]
     },
     "execution_count": 28,
     "metadata": {},
     "output_type": "execute_result"
    }
   ],
   "source": [
    "jegop = [i**2 for i in range(10)]\n",
    "jegop"
   ]
  },
  {
   "cell_type": "code",
   "execution_count": 29,
   "id": "a9ebff1c",
   "metadata": {},
   "outputs": [
    {
     "data": {
      "text/plain": [
       "[0, 1, 4, 9, 16, 25, 36, 49, 64, 81]"
      ]
     },
     "execution_count": 29,
     "metadata": {},
     "output_type": "execute_result"
    }
   ],
   "source": [
    "[i**2 for i in range(10)]"
   ]
  },
  {
   "cell_type": "markdown",
   "id": "3d4d8134",
   "metadata": {},
   "source": [
    "- 여러 학생의 성적 점수가 다음과 같은 Dictionary로 구성되어 있다."
   ]
  },
  {
   "cell_type": "code",
   "execution_count": 6,
   "id": "1d298096",
   "metadata": {},
   "outputs": [],
   "source": [
    "scores = {'홍길동':{'수학':99,'영어':80,'국어':75},\n",
    "          '김미정':{'영어':67,'국어':87,'수학':55},\n",
    "          '정수진':{'수학':67,'국어':41,'영어':23}}"
   ]
  },
  {
   "cell_type": "markdown",
   "id": "8fc88a90",
   "metadata": {},
   "source": [
    "- 이 때, 학생들의 평균을 저장하는 새로운 항복을 추가하고 싶다.\n",
    "- scores에 학생들의 수학, 영어, 국어 평균 성적을 기록한 \"성적\"정보를 추가해주세요."
   ]
  },
  {
   "cell_type": "code",
   "execution_count": 9,
   "id": "9ad49bca",
   "metadata": {},
   "outputs": [
    {
     "name": "stdout",
     "output_type": "stream",
     "text": [
      "{'홍길동': {'수학': 99, '영어': 80, '국어': 75}, '김미정': {'영어': 67, '국어': 87, '수학': 55}, '정수진': {'수학': 67, '국어': 41, '영어': 23}, '평균 점수': {'국어': 67.66666666666667, '영어': 56.666666666666664, '수학': 73.66666666666667}}\n"
     ]
    }
   ],
   "source": [
    "math = 0\n",
    "eng = 0\n",
    "kor = 0\n",
    "for i in scores:\n",
    "    math = math + scores[i][\"수학\"]\n",
    "    eng = eng + scores[i][\"영어\"]\n",
    "    kor = kor + scores[i][\"국어\"]\n",
    "    \n",
    "scores[\"평균 점수\"] = {\"국어\" : kor/len(scores), \"영어\" : eng/len(scores), \"수학\" : math/len(scores)}\n",
    "print(scores)"
   ]
  },
  {
   "cell_type": "code",
   "execution_count": 10,
   "id": "dd0955ba",
   "metadata": {},
   "outputs": [
    {
     "data": {
      "text/plain": [
       "73"
      ]
     },
     "execution_count": 10,
     "metadata": {},
     "output_type": "execute_result"
    }
   ],
   "source": [
    "dirty = 73.366666666\n",
    "round(dirty)"
   ]
  },
  {
   "cell_type": "code",
   "execution_count": 11,
   "id": "b3ee5db8",
   "metadata": {},
   "outputs": [],
   "source": [
    "import math"
   ]
  },
  {
   "cell_type": "code",
   "execution_count": 12,
   "id": "d9b55341",
   "metadata": {},
   "outputs": [
    {
     "data": {
      "text/plain": [
       "73"
      ]
     },
     "execution_count": 12,
     "metadata": {},
     "output_type": "execute_result"
    }
   ],
   "source": [
    "math.floor(dirty)"
   ]
  },
  {
   "cell_type": "code",
   "execution_count": 13,
   "id": "3e536186",
   "metadata": {},
   "outputs": [
    {
     "data": {
      "text/plain": [
       "74"
      ]
     },
     "execution_count": 13,
     "metadata": {},
     "output_type": "execute_result"
    }
   ],
   "source": [
    "math.ceil(dirty)"
   ]
  },
  {
   "cell_type": "code",
   "execution_count": 14,
   "id": "a7888789",
   "metadata": {},
   "outputs": [
    {
     "data": {
      "text/plain": [
       "73.37"
      ]
     },
     "execution_count": 14,
     "metadata": {},
     "output_type": "execute_result"
    }
   ],
   "source": [
    "round(dirty, 2)"
   ]
  },
  {
   "cell_type": "code",
   "execution_count": 17,
   "id": "477e5c07",
   "metadata": {},
   "outputs": [
    {
     "data": {
      "text/plain": [
       "1"
      ]
     },
     "execution_count": 17,
     "metadata": {},
     "output_type": "execute_result"
    }
   ],
   "source": [
    "int(1.4)"
   ]
  },
  {
   "cell_type": "code",
   "execution_count": 25,
   "id": "fda804bb",
   "metadata": {},
   "outputs": [
    {
     "data": {
      "text/plain": [
       "'dwdq'"
      ]
     },
     "execution_count": 25,
     "metadata": {},
     "output_type": "execute_result"
    }
   ],
   "source": [
    "new_id = \"DWDQ\"\n",
    "new_id = new_id.lower()\n",
    "new_id"
   ]
  },
  {
   "cell_type": "code",
   "execution_count": null,
   "id": "9a93aad6",
   "metadata": {},
   "outputs": [],
   "source": []
  },
  {
   "cell_type": "code",
   "execution_count": null,
   "id": "0d61a0fd",
   "metadata": {},
   "outputs": [],
   "source": []
  }
 ],
 "metadata": {
  "kernelspec": {
   "display_name": "Python 3 (ipykernel)",
   "language": "python",
   "name": "python3"
  },
  "language_info": {
   "codemirror_mode": {
    "name": "ipython",
    "version": 3
   },
   "file_extension": ".py",
   "mimetype": "text/x-python",
   "name": "python",
   "nbconvert_exporter": "python",
   "pygments_lexer": "ipython3",
   "version": "3.9.12"
  }
 },
 "nbformat": 4,
 "nbformat_minor": 5
}

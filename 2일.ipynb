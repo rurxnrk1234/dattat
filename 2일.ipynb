{
 "cells": [
  {
   "cell_type": "code",
   "execution_count": 2,
   "id": "ee1555dc",
   "metadata": {},
   "outputs": [
    {
     "name": "stdout",
     "output_type": "stream",
     "text": [
      "오늘의 메뉴는 곱창볶음입니다.\n"
     ]
    }
   ],
   "source": [
    "# lunch_menu = \"곱창볶음\"\n",
    "# lunch_menu = \"꽈배기\"\n",
    "# lunch_menu = \"짬뽕\"\n",
    "\n",
    "print(\"오늘의 메뉴는 %s입니다.\"%lunch_menu)"
   ]
  },
  {
   "cell_type": "code",
   "execution_count": 3,
   "id": "179d96dd",
   "metadata": {},
   "outputs": [
    {
     "name": "stdout",
     "output_type": "stream",
     "text": [
      "오늘의 메뉴는 꽈배기와 짬뽕입니다.\n"
     ]
    }
   ],
   "source": [
    "# lunch_menu = \"곱창볶음\"\n",
    "lunch_menu2 = \"꽈배기\"\n",
    "lunch_menu3 = \"짬뽕\"\n",
    "\n",
    "print(\"오늘의 메뉴는 %s와 %s입니다.\"%(lunch_menu2, lunch_menu3))"
   ]
  },
  {
   "cell_type": "code",
   "execution_count": 11,
   "id": "20198308",
   "metadata": {
    "scrolled": true
   },
   "outputs": [
    {
     "name": "stdout",
     "output_type": "stream",
     "text": [
      "오늘의 메뉴는 꽈배기와 짬뽕입니다.\n"
     ]
    }
   ],
   "source": [
    "# lunch_menu = \"곱창볶음\"\n",
    "lunch_menu2 = \"꽈배기\"\n",
    "lunch_menu3 = \"짬뽕\"\n",
    "\n",
    "print(\"오늘의 메뉴는 {0}와 {1}입니다.\" .format(lunch_menu2, lunch_menu3))"
   ]
  },
  {
   "cell_type": "markdown",
   "id": "0865d74c",
   "metadata": {},
   "source": [
    "### 변수 x에 100을 대입하고, 변수 y에 200을 대입한 뒤, 변수 add에 x와 y의 합을 대입합니다.\n",
    "- 그 후, 대입한 변수를 바탕으로 이래 문자를 출력합니다.\n",
    "- \"100과 200의 합은 300입니다.\""
   ]
  },
  {
   "cell_type": "code",
   "execution_count": 1,
   "id": "8074037f",
   "metadata": {
    "scrolled": true
   },
   "outputs": [
    {
     "name": "stdout",
     "output_type": "stream",
     "text": [
      "100과 200의 합은 300입니다.\n"
     ]
    }
   ],
   "source": [
    "x, y = 100, 200\n",
    "add = x + y\n",
    "\n",
    "print(\"{0}과 {1}의 합은 {2}입니다.\" .format(x, y, add))"
   ]
  },
  {
   "cell_type": "code",
   "execution_count": 2,
   "id": "46fdc83c",
   "metadata": {},
   "outputs": [],
   "source": [
    "song = \"tell me tell me tetetete tell me\""
   ]
  },
  {
   "cell_type": "code",
   "execution_count": 6,
   "id": "7640d91f",
   "metadata": {},
   "outputs": [
    {
     "data": {
      "text/plain": [
       "3"
      ]
     },
     "execution_count": 6,
     "metadata": {},
     "output_type": "execute_result"
    }
   ],
   "source": [
    "song.count(\"tell me\")"
   ]
  },
  {
   "cell_type": "code",
   "execution_count": 7,
   "id": "de5fb538",
   "metadata": {},
   "outputs": [
    {
     "data": {
      "text/plain": [
       "16"
      ]
     },
     "execution_count": 7,
     "metadata": {},
     "output_type": "execute_result"
    }
   ],
   "source": [
    "song.find(\"tetetete\")"
   ]
  },
  {
   "cell_type": "code",
   "execution_count": 8,
   "id": "b9719377",
   "metadata": {},
   "outputs": [
    {
     "data": {
      "text/plain": [
       "'TELL ME TELL ME TETETETE TELL ME'"
      ]
     },
     "execution_count": 8,
     "metadata": {},
     "output_type": "execute_result"
    }
   ],
   "source": [
    "song.upper()"
   ]
  },
  {
   "cell_type": "code",
   "execution_count": 10,
   "id": "e97fd7f4",
   "metadata": {},
   "outputs": [
    {
     "data": {
      "text/plain": [
       "'TELL ME TELL ME TETETETE TELL ME'"
      ]
     },
     "execution_count": 10,
     "metadata": {},
     "output_type": "execute_result"
    }
   ],
   "source": [
    "song = song.upper()\n",
    "song"
   ]
  },
  {
   "cell_type": "code",
   "execution_count": 12,
   "id": "dab1d216",
   "metadata": {},
   "outputs": [
    {
     "data": {
      "text/plain": [
       "'tell me tell me tetetete tell me'"
      ]
     },
     "execution_count": 12,
     "metadata": {},
     "output_type": "execute_result"
    }
   ],
   "source": [
    "song = song.lower()\n",
    "song"
   ]
  },
  {
   "cell_type": "code",
   "execution_count": 13,
   "id": "159f3020",
   "metadata": {},
   "outputs": [
    {
     "data": {
      "text/plain": [
       "'Tell Me Tell Me Tetetete Tell Me'"
      ]
     },
     "execution_count": 13,
     "metadata": {},
     "output_type": "execute_result"
    }
   ],
   "source": [
    "song.title()"
   ]
  },
  {
   "cell_type": "code",
   "execution_count": 15,
   "id": "9856eadd",
   "metadata": {},
   "outputs": [
    {
     "data": {
      "text/plain": [
       "'yell me yell me yeyeyeye yell me'"
      ]
     },
     "execution_count": 15,
     "metadata": {},
     "output_type": "execute_result"
    }
   ],
   "source": [
    "song.replace(\"t\", \"y\" )"
   ]
  },
  {
   "cell_type": "code",
   "execution_count": 16,
   "id": "f176c4cc",
   "metadata": {},
   "outputs": [
    {
     "data": {
      "text/plain": [
       "['tell', 'me', 'tell', 'me', 'tetetete', 'tell', 'me']"
      ]
     },
     "execution_count": 16,
     "metadata": {},
     "output_type": "execute_result"
    }
   ],
   "source": [
    "song.split(\" \")"
   ]
  },
  {
   "cell_type": "code",
   "execution_count": 19,
   "id": "f0c6615d",
   "metadata": {},
   "outputs": [
    {
     "data": {
      "text/plain": [
       "['나는 밥을 먹었다', '아주 맛이 있었다.']"
      ]
     },
     "execution_count": 19,
     "metadata": {},
     "output_type": "execute_result"
    }
   ],
   "source": [
    "sentence = \"나는 밥을 먹었다. 아주 맛이 있었다.\"\n",
    "sentence.split(\". \")"
   ]
  },
  {
   "cell_type": "code",
   "execution_count": 1,
   "id": "d8b0e4b7",
   "metadata": {},
   "outputs": [
    {
     "data": {
      "text/plain": [
       "'te.ll'"
      ]
     },
     "execution_count": 1,
     "metadata": {},
     "output_type": "execute_result"
    }
   ],
   "source": [
    "ah_ryeon = \".......te.ll.......\"\n",
    "ah_ryeon.strip(\".\")"
   ]
  },
  {
   "cell_type": "code",
   "execution_count": null,
   "id": "0b4c7a7a",
   "metadata": {},
   "outputs": [],
   "source": []
  }
 ],
 "metadata": {
  "kernelspec": {
   "display_name": "Python 3 (ipykernel)",
   "language": "python",
   "name": "python3"
  },
  "language_info": {
   "codemirror_mode": {
    "name": "ipython",
    "version": 3
   },
   "file_extension": ".py",
   "mimetype": "text/x-python",
   "name": "python",
   "nbconvert_exporter": "python",
   "pygments_lexer": "ipython3",
   "version": "3.9.12"
  }
 },
 "nbformat": 4,
 "nbformat_minor": 5
}

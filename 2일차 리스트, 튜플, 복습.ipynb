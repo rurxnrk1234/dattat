{
 "cells": [
  {
   "cell_type": "code",
   "execution_count": 1,
   "id": "051c3afe",
   "metadata": {},
   "outputs": [],
   "source": [
    "a = [1, 2, 3, 4]"
   ]
  },
  {
   "cell_type": "code",
   "execution_count": 5,
   "id": "47b06656",
   "metadata": {},
   "outputs": [
    {
     "data": {
      "text/plain": [
       "['My', 'name', 'is', 'ChangHyun']"
      ]
     },
     "execution_count": 5,
     "metadata": {},
     "output_type": "execute_result"
    }
   ],
   "source": [
    "b = [\"My\", \"name\", \"is\", \"ChangHyun\"]\n",
    "b"
   ]
  },
  {
   "cell_type": "code",
   "execution_count": 6,
   "id": "ad2a8a1f",
   "metadata": {},
   "outputs": [
    {
     "data": {
      "text/plain": [
       "7"
      ]
     },
     "execution_count": 6,
     "metadata": {},
     "output_type": "execute_result"
    }
   ],
   "source": [
    "l = [7, 8, 9, 10]\n",
    "l[0]"
   ]
  },
  {
   "cell_type": "code",
   "execution_count": 7,
   "id": "77a82646",
   "metadata": {},
   "outputs": [
    {
     "data": {
      "text/plain": [
       "7"
      ]
     },
     "execution_count": 7,
     "metadata": {},
     "output_type": "execute_result"
    }
   ],
   "source": [
    "[7, 8, 9, 10][0]"
   ]
  },
  {
   "cell_type": "code",
   "execution_count": 8,
   "id": "e5807028",
   "metadata": {},
   "outputs": [
    {
     "data": {
      "text/plain": [
       "'a'"
      ]
     },
     "execution_count": 8,
     "metadata": {},
     "output_type": "execute_result"
    }
   ],
   "source": [
    "d = [1, 2, [\"a\",\"b\"]]\n",
    "d[2][0]"
   ]
  },
  {
   "cell_type": "code",
   "execution_count": 9,
   "id": "d0e765d9",
   "metadata": {},
   "outputs": [
    {
     "data": {
      "text/plain": [
       "[1, 2, 3, 4, 5]"
      ]
     },
     "execution_count": 9,
     "metadata": {},
     "output_type": "execute_result"
    }
   ],
   "source": [
    "a.append(5)\n",
    "a"
   ]
  },
  {
   "cell_type": "code",
   "execution_count": 13,
   "id": "df7cf8fd",
   "metadata": {},
   "outputs": [
    {
     "data": {
      "text/plain": [
       "[9, 1, 12, 2, 12, 3, 4, 5, 20, 20]"
      ]
     },
     "execution_count": 13,
     "metadata": {},
     "output_type": "execute_result"
    }
   ],
   "source": [
    "a.insert(2,12)\n",
    "a"
   ]
  },
  {
   "cell_type": "code",
   "execution_count": 11,
   "id": "9e6a2766",
   "metadata": {},
   "outputs": [],
   "source": [
    "a.append(20)\n",
    "a.insert(-1,20)"
   ]
  },
  {
   "cell_type": "code",
   "execution_count": 19,
   "id": "a3f8e8ac",
   "metadata": {},
   "outputs": [
    {
     "data": {
      "text/plain": [
       "[1, 4, 20, 20]"
      ]
     },
     "execution_count": 19,
     "metadata": {},
     "output_type": "execute_result"
    }
   ],
   "source": [
    "del a[2]\n",
    "a"
   ]
  },
  {
   "cell_type": "code",
   "execution_count": 21,
   "id": "5adf0d96",
   "metadata": {},
   "outputs": [
    {
     "data": {
      "text/plain": [
       "[1, 4]"
      ]
     },
     "execution_count": 21,
     "metadata": {},
     "output_type": "execute_result"
    }
   ],
   "source": [
    "a.remove(20)\n",
    "a"
   ]
  },
  {
   "cell_type": "code",
   "execution_count": 22,
   "id": "c750c4d8",
   "metadata": {},
   "outputs": [
    {
     "data": {
      "text/plain": [
       "[1, 4]"
      ]
     },
     "execution_count": 22,
     "metadata": {},
     "output_type": "execute_result"
    }
   ],
   "source": [
    "a[1] = 4\n",
    "a"
   ]
  },
  {
   "cell_type": "code",
   "execution_count": 24,
   "id": "285ddef2",
   "metadata": {
    "scrolled": true
   },
   "outputs": [
    {
     "data": {
      "text/plain": [
       "[4, 1]"
      ]
     },
     "execution_count": 24,
     "metadata": {},
     "output_type": "execute_result"
    }
   ],
   "source": [
    "a.sort(reverse = True)\n",
    "a"
   ]
  },
  {
   "cell_type": "code",
   "execution_count": 25,
   "id": "e28988bc",
   "metadata": {},
   "outputs": [
    {
     "data": {
      "text/plain": [
       "2"
      ]
     },
     "execution_count": 25,
     "metadata": {},
     "output_type": "execute_result"
    }
   ],
   "source": [
    "len(a)"
   ]
  },
  {
   "cell_type": "code",
   "execution_count": 26,
   "id": "d460a328",
   "metadata": {},
   "outputs": [
    {
     "data": {
      "text/plain": [
       "[4, 1]"
      ]
     },
     "execution_count": 26,
     "metadata": {},
     "output_type": "execute_result"
    }
   ],
   "source": [
    "a"
   ]
  },
  {
   "cell_type": "code",
   "execution_count": 28,
   "id": "40c3c3e7",
   "metadata": {},
   "outputs": [
    {
     "data": {
      "text/plain": [
       "'TELL ME'"
      ]
     },
     "execution_count": 28,
     "metadata": {},
     "output_type": "execute_result"
    }
   ],
   "source": [
    "\"tell me\".upper()"
   ]
  },
  {
   "cell_type": "code",
   "execution_count": 29,
   "id": "895d6b99",
   "metadata": {},
   "outputs": [
    {
     "data": {
      "text/plain": [
       "['TELL', 'ME']"
      ]
     },
     "execution_count": 29,
     "metadata": {},
     "output_type": "execute_result"
    }
   ],
   "source": [
    "sentence = \"tell me\"\n",
    "sentence.upper().split()"
   ]
  },
  {
   "cell_type": "code",
   "execution_count": 32,
   "id": "b4139344",
   "metadata": {},
   "outputs": [
    {
     "data": {
      "text/plain": [
       "True"
      ]
     },
     "execution_count": 32,
     "metadata": {},
     "output_type": "execute_result"
    }
   ],
   "source": [
    "cs = [\"사이다\", \"콜라\", \"주스\"]\n",
    "\"카프리썬\" not in cs"
   ]
  },
  {
   "cell_type": "code",
   "execution_count": 33,
   "id": "b2022ee8",
   "metadata": {},
   "outputs": [
    {
     "data": {
      "text/plain": [
       "True"
      ]
     },
     "execution_count": 33,
     "metadata": {},
     "output_type": "execute_result"
    }
   ],
   "source": [
    "like = \"나는 콜라가 좋아\"\n",
    "\"콜라\" in like"
   ]
  },
  {
   "cell_type": "code",
   "execution_count": 34,
   "id": "ecaad159",
   "metadata": {},
   "outputs": [],
   "source": [
    "import random"
   ]
  },
  {
   "cell_type": "code",
   "execution_count": 35,
   "id": "abe03880",
   "metadata": {},
   "outputs": [
    {
     "data": {
      "text/plain": [
       "0.1763573861343145"
      ]
     },
     "execution_count": 35,
     "metadata": {},
     "output_type": "execute_result"
    }
   ],
   "source": [
    "random.random()"
   ]
  },
  {
   "cell_type": "code",
   "execution_count": 37,
   "id": "f7568568",
   "metadata": {},
   "outputs": [
    {
     "data": {
      "text/plain": [
       "3"
      ]
     },
     "execution_count": 37,
     "metadata": {},
     "output_type": "execute_result"
    }
   ],
   "source": [
    "l = [1, 2, 3, 4, 5]\n",
    "random.choice(l)"
   ]
  },
  {
   "cell_type": "markdown",
   "id": "f73846fe",
   "metadata": {},
   "source": [
    "### 가위바위보 게임 만들기"
   ]
  },
  {
   "cell_type": "markdown",
   "id": "73acad1a",
   "metadata": {},
   "source": [
    "- 플레이어에게 가위, 바위, 보 중 하나를 입력하게 합니다.\n",
    "- 플레이어가 말을 안듣고, 가위, 바위, 보 중 어느 것도 내지 않았을 때에는 \"잘못된 입력입니다.\"를 출력하세요.\n",
    "- 컴퓨터는 동일한 확률로 가위,바위,보 중 하나를 냅니다.\n",
    "- 플레이어의 입력과, 컴퓨터의 입력을 비교하여 승부를 결정합니다.\n",
    "- 출력문은 \"당신은 가위를 냈고, 컴퓨터는 보를 냈습니다. 당신이 이겼습니다.\"와 같은 형식으로 합니다."
   ]
  },
  {
   "cell_type": "code",
   "execution_count": 1,
   "id": "70ee69f2",
   "metadata": {},
   "outputs": [
    {
     "name": "stdout",
     "output_type": "stream",
     "text": [
      "가위,바위,보 중 하나를 선택: \n",
      "잘못된 입력입니다.\n",
      "당신은 를 냈고 컴퓨터는가위를 냈습니다. 당신이 졋습니다\n"
     ]
    }
   ],
   "source": [
    "import random\n",
    "possible_choice = [\"가위\", \"바위\", \"보\"]\n",
    "player_choice = input(\"가위,바위,보 중 하나를 선택: \")\n",
    "computer_choice = random.choice(possible_choice)\n",
    "\n",
    "if player_choice not in possible_choice:\n",
    "    print(\"잘못된 입력입니다.\")\n",
    "else:\n",
    "    pass\n",
    "if (player_choice == \"가위\" and computer_choice == \"보\") or (player_choice == \"바위\" and computer_choice == \"가위\") or (player_choice == \"보\" and computer_choice == \"바위\"):\n",
    "    print(f\"당신은 {player_choice}를 냈고 컴퓨터는{computer_choice}를 냈습니다. 당신이 이겼습니다\")\n",
    "elif (player_choice == \"가위\" and  computer_choice == \"가위\") or (player_choice == \"바위\" and  computer_choice == \"바위\") or (player_choice == \"보\" and  computer_choice == \"보\"):\n",
    "    print(f\"당신은 {player_choice}를 냈고 컴퓨터는{computer_choice}를 냈습니다. 당신이 비겼습니다\")\n",
    "else:\n",
    "    print(f\"당신은 {player_choice}를 냈고 컴퓨터는{computer_choice}를 냈습니다. 당신이 졋습니다\")\n",
    "    "
   ]
  },
  {
   "cell_type": "markdown",
   "id": "940f727b",
   "metadata": {},
   "source": [
    "### 변수에 할당될 수 있는 자료형\n",
    "- 정수형 (int)\n",
    "- 실수형\n",
    "- 문자형\n",
    "- 논리형 (boolean)"
   ]
  },
  {
   "cell_type": "markdown",
   "id": "eeb002e9",
   "metadata": {},
   "source": [
    "## 문자"
   ]
  },
  {
   "cell_type": "code",
   "execution_count": 2,
   "id": "3d249362",
   "metadata": {},
   "outputs": [
    {
     "data": {
      "text/plain": [
       "'name'"
      ]
     },
     "execution_count": 2,
     "metadata": {},
     "output_type": "execute_result"
    }
   ],
   "source": [
    "\"my name is stephany\"[3:7]"
   ]
  },
  {
   "cell_type": "code",
   "execution_count": 8,
   "id": "25d553e3",
   "metadata": {},
   "outputs": [
    {
     "name": "stdout",
     "output_type": "stream",
     "text": [
      "오늘 점심은 초밥와 짜장면입니다.\n"
     ]
    }
   ],
   "source": [
    "menu1 = \"초밥\"\n",
    "menu2 = \"짜장면\"\n",
    "# menu = \"국밥\"\n",
    "\n",
    "print(\"오늘 점심은 %s와 %s입니다.\" %(menu1, menu2))"
   ]
  },
  {
   "cell_type": "code",
   "execution_count": 12,
   "id": "069e1cd9",
   "metadata": {},
   "outputs": [
    {
     "name": "stdout",
     "output_type": "stream",
     "text": [
      "오늘 점심은 짜장면와 초밥입니다.\n"
     ]
    }
   ],
   "source": [
    "menu1 = \"초밥\"\n",
    "menu2 = \"짜장면\"\n",
    "# menu = \"국밥\"\n",
    "\n",
    "print(\"오늘 점심은 {1}와 {0}입니다.\" .format(menu1, menu2))"
   ]
  },
  {
   "cell_type": "code",
   "execution_count": 14,
   "id": "59016038",
   "metadata": {},
   "outputs": [
    {
     "name": "stdout",
     "output_type": "stream",
     "text": [
      "오늘 점심은 짜장면와 초밥입니다.\n"
     ]
    }
   ],
   "source": [
    "menu1 = \"초밥\"\n",
    "menu2 = \"짜장면\"\n",
    "# menu = \"국밥\"\n",
    "\n",
    "print(f\"오늘 점심은 {menu2}와 {menu1}입니다.\")"
   ]
  },
  {
   "cell_type": "code",
   "execution_count": 15,
   "id": "70a281bc",
   "metadata": {},
   "outputs": [],
   "source": [
    "song = \"tell me tell me tetetete tell me\""
   ]
  },
  {
   "cell_type": "code",
   "execution_count": 16,
   "id": "130e35d1",
   "metadata": {},
   "outputs": [
    {
     "data": {
      "text/plain": [
       "3"
      ]
     },
     "execution_count": 16,
     "metadata": {},
     "output_type": "execute_result"
    }
   ],
   "source": [
    "song.count(\"tell me\")"
   ]
  },
  {
   "cell_type": "code",
   "execution_count": 17,
   "id": "9573a923",
   "metadata": {},
   "outputs": [
    {
     "data": {
      "text/plain": [
       "0"
      ]
     },
     "execution_count": 17,
     "metadata": {},
     "output_type": "execute_result"
    }
   ],
   "source": [
    "song.find(\"tell me\")"
   ]
  },
  {
   "cell_type": "code",
   "execution_count": 18,
   "id": "1037912d",
   "metadata": {},
   "outputs": [
    {
     "name": "stdout",
     "output_type": "stream",
     "text": [
      "TELL ME TELL ME TETETETE TELL ME\n",
      "tell me tell me tetetete tell me\n",
      "Tell Me Tell Me Tetetete Tell Me\n"
     ]
    }
   ],
   "source": [
    "print(song.upper())\n",
    "print(song.lower())\n",
    "print(song.title())"
   ]
  },
  {
   "cell_type": "code",
   "execution_count": 19,
   "id": "eff75d1d",
   "metadata": {},
   "outputs": [
    {
     "data": {
      "text/plain": [
       "['', 'll me ', 'll me ', '', '', '', ' ', 'll me']"
      ]
     },
     "execution_count": 19,
     "metadata": {},
     "output_type": "execute_result"
    }
   ],
   "source": [
    "song.split(\"te\")"
   ]
  },
  {
   "cell_type": "code",
   "execution_count": 20,
   "id": "8f99d4f2",
   "metadata": {},
   "outputs": [
    {
     "data": {
      "text/plain": [
       "'안녕하세요'"
      ]
     },
     "execution_count": 20,
     "metadata": {},
     "output_type": "execute_result"
    }
   ],
   "source": [
    "\"안녕\" + \"하세요\""
   ]
  },
  {
   "cell_type": "code",
   "execution_count": 21,
   "id": "aded5cb2",
   "metadata": {},
   "outputs": [
    {
     "data": {
      "text/plain": [
       "'안녕안녕안녕'"
      ]
     },
     "execution_count": 21,
     "metadata": {},
     "output_type": "execute_result"
    }
   ],
   "source": [
    "\"안녕\" * 3"
   ]
  },
  {
   "cell_type": "markdown",
   "id": "007935e9",
   "metadata": {},
   "source": [
    "## 논리형"
   ]
  },
  {
   "cell_type": "code",
   "execution_count": 23,
   "id": "24053913",
   "metadata": {},
   "outputs": [
    {
     "data": {
      "text/plain": [
       "False"
      ]
     },
     "execution_count": 23,
     "metadata": {},
     "output_type": "execute_result"
    }
   ],
   "source": [
    "1 == 2"
   ]
  },
  {
   "cell_type": "code",
   "execution_count": 24,
   "id": "1a7bd774",
   "metadata": {},
   "outputs": [
    {
     "data": {
      "text/plain": [
       "True"
      ]
     },
     "execution_count": 24,
     "metadata": {},
     "output_type": "execute_result"
    }
   ],
   "source": [
    "6%3 == 0 and 6%2 == 0"
   ]
  },
  {
   "cell_type": "markdown",
   "id": "e1c8f90c",
   "metadata": {},
   "source": [
    "## 조건문"
   ]
  },
  {
   "cell_type": "code",
   "execution_count": 1,
   "id": "7fbb8123",
   "metadata": {},
   "outputs": [
    {
     "name": "stdout",
     "output_type": "stream",
     "text": [
      "가진 돈: 10000\n",
      "택시를 타고 간다.\n",
      "우와 집이다!\n"
     ]
    }
   ],
   "source": [
    "money = int(input(\"가진 돈: \"))\n",
    "if money >= 4000:\n",
    "    print(\"택시를 타고 간다.\")\n",
    "    \n",
    "elif money < 4000 and money >= 1250:\n",
    "    print(\"버스를 타고 간다\")\n",
    "    \n",
    "else:\n",
    "    pass\n",
    "\n",
    "print(\"우와 집이다!\")"
   ]
  },
  {
   "cell_type": "markdown",
   "id": "6299ebe2",
   "metadata": {},
   "source": [
    "## 리스트,튜플"
   ]
  },
  {
   "cell_type": "code",
   "execution_count": 7,
   "id": "ce4fe3be",
   "metadata": {},
   "outputs": [],
   "source": [
    "list1 = ['a', 'b', 'c', 'd', 'e']\n",
    "tuple1 = ('a', 'b', 'c', 'd', 'e')"
   ]
  },
  {
   "cell_type": "code",
   "execution_count": 8,
   "id": "3262c797",
   "metadata": {},
   "outputs": [
    {
     "data": {
      "text/plain": [
       "'a'"
      ]
     },
     "execution_count": 8,
     "metadata": {},
     "output_type": "execute_result"
    }
   ],
   "source": [
    "tuple1[0]"
   ]
  },
  {
   "cell_type": "code",
   "execution_count": 9,
   "id": "8022e0ce",
   "metadata": {},
   "outputs": [
    {
     "data": {
      "text/plain": [
       "['a', 'b', 'c', 'd', 'e', 'f']"
      ]
     },
     "execution_count": 9,
     "metadata": {},
     "output_type": "execute_result"
    }
   ],
   "source": [
    "# 원소 추가\n",
    "list1.append('f')\n",
    "list1"
   ]
  },
  {
   "cell_type": "code",
   "execution_count": 11,
   "id": "583bf454",
   "metadata": {},
   "outputs": [
    {
     "data": {
      "text/plain": [
       "['a', 'b', 'c', 'g', 'd', 'e', 'f']"
      ]
     },
     "execution_count": 11,
     "metadata": {},
     "output_type": "execute_result"
    }
   ],
   "source": [
    "# 원소 추가\n",
    "list1.insert(3, \"g\")\n",
    "list1"
   ]
  },
  {
   "cell_type": "code",
   "execution_count": 12,
   "id": "9bf90717",
   "metadata": {},
   "outputs": [
    {
     "data": {
      "text/plain": [
       "['a', 'b', 'c', 'd', 'e', 'f']"
      ]
     },
     "execution_count": 12,
     "metadata": {},
     "output_type": "execute_result"
    }
   ],
   "source": [
    "# 원소 제거\n",
    "del list1[3]\n",
    "list1"
   ]
  },
  {
   "cell_type": "code",
   "execution_count": 14,
   "id": "076b4c97",
   "metadata": {},
   "outputs": [
    {
     "data": {
      "text/plain": [
       "['a', 'b', 'c', 'd', 'e']"
      ]
     },
     "execution_count": 14,
     "metadata": {},
     "output_type": "execute_result"
    }
   ],
   "source": [
    "# 원소 제거\n",
    "list1.remove('f')\n",
    "list1"
   ]
  },
  {
   "cell_type": "code",
   "execution_count": 15,
   "id": "33116590",
   "metadata": {},
   "outputs": [
    {
     "data": {
      "text/plain": [
       "['a', 'b', 'c', 'd']"
      ]
     },
     "execution_count": 15,
     "metadata": {},
     "output_type": "execute_result"
    }
   ],
   "source": [
    "# 원소 제거\n",
    "list1.pop()\n",
    "list1"
   ]
  },
  {
   "cell_type": "code",
   "execution_count": 16,
   "id": "f20b03fe",
   "metadata": {},
   "outputs": [
    {
     "data": {
      "text/plain": [
       "['e', 'b', 'c', 'd']"
      ]
     },
     "execution_count": 16,
     "metadata": {},
     "output_type": "execute_result"
    }
   ],
   "source": [
    "# 원소 교체\n",
    "list1[0] = 'e'\n",
    "list1"
   ]
  },
  {
   "cell_type": "code",
   "execution_count": 18,
   "id": "b2154b05",
   "metadata": {},
   "outputs": [
    {
     "data": {
      "text/plain": [
       "['d', 'c', 'b', 'e']"
      ]
     },
     "execution_count": 18,
     "metadata": {},
     "output_type": "execute_result"
    }
   ],
   "source": [
    "list1.reverse()\n",
    "list1"
   ]
  },
  {
   "cell_type": "code",
   "execution_count": 19,
   "id": "e4290e94",
   "metadata": {},
   "outputs": [
    {
     "data": {
      "text/plain": [
       "['b', 'c', 'd', 'e']"
      ]
     },
     "execution_count": 19,
     "metadata": {},
     "output_type": "execute_result"
    }
   ],
   "source": [
    "list1.sort()\n",
    "list1"
   ]
  },
  {
   "cell_type": "code",
   "execution_count": 20,
   "id": "f2135064",
   "metadata": {},
   "outputs": [
    {
     "data": {
      "text/plain": [
       "0.47835900508044404"
      ]
     },
     "execution_count": 20,
     "metadata": {},
     "output_type": "execute_result"
    }
   ],
   "source": [
    "import random\n",
    "random.random()"
   ]
  },
  {
   "cell_type": "code",
   "execution_count": 21,
   "id": "880a33d4",
   "metadata": {},
   "outputs": [
    {
     "data": {
      "text/plain": [
       "'c'"
      ]
     },
     "execution_count": 21,
     "metadata": {},
     "output_type": "execute_result"
    }
   ],
   "source": [
    "random.choice(list1)"
   ]
  },
  {
   "cell_type": "markdown",
   "id": "de477bcc",
   "metadata": {},
   "source": [
    "### 아이템 강화 시스템\n",
    "- 플레이어로부터 아이템의 강화 등급을 입력받습니다. (0 ~ 10)\n",
    "- 강화 성공률은 0등급일때 70%, 1등급일 때 65% ... 1등급이 올라갈수록 5%씩 하락 합니다.\n",
    "- 강화 실패 시 50% 확률로 아이템이 파괴됩니다.\n",
    "- 강화 성공 시\"강화 성공\", 강화 실패 시 \"강화 실패\", 아이템 파괴 시 \"아이템 파괴\"를 출력해주세요."
   ]
  },
  {
   "cell_type": "code",
   "execution_count": 64,
   "id": "ef838cfb",
   "metadata": {},
   "outputs": [
    {
     "name": "stdout",
     "output_type": "stream",
     "text": [
      "강화 등급을 입력하세요: 10\n",
      "강화 실패\n",
      "아이템 파괴\n"
     ]
    }
   ],
   "source": [
    "import random\n",
    "num = int(input(\"강화 등급을 입력하세요: \"))\n",
    "prob1 = random.random()\n",
    "prob2 = random.random()\n",
    "if prob1  <= 0.7 - (0.05 * num):\n",
    "    print(\"강화 성공\")\n",
    "else:\n",
    "    print(\"강화 실패\")\n",
    "    if prob2 <= 0.5:\n",
    "        print(\"아이템 파괴\")"
   ]
  },
  {
   "cell_type": "code",
   "execution_count": null,
   "id": "26058919",
   "metadata": {},
   "outputs": [],
   "source": []
  },
  {
   "cell_type": "code",
   "execution_count": null,
   "id": "e5bcaa23",
   "metadata": {},
   "outputs": [],
   "source": []
  }
 ],
 "metadata": {
  "kernelspec": {
   "display_name": "Python 3 (ipykernel)",
   "language": "python",
   "name": "python3"
  },
  "language_info": {
   "codemirror_mode": {
    "name": "ipython",
    "version": 3
   },
   "file_extension": ".py",
   "mimetype": "text/x-python",
   "name": "python",
   "nbconvert_exporter": "python",
   "pygments_lexer": "ipython3",
   "version": "3.9.12"
  }
 },
 "nbformat": 4,
 "nbformat_minor": 5
}

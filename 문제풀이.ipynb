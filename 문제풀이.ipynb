{
 "cells": [
  {
   "cell_type": "code",
   "execution_count": 1,
   "id": "fff66e76",
   "metadata": {},
   "outputs": [
    {
     "name": "stderr",
     "output_type": "stream",
     "text": [
      "Cloning into 'Nural-Network-and-DeepLearning'...\n"
     ]
    }
   ],
   "source": [
    "!git clone https://github.com/OsamaAyman/Nural-Network-and-DeepLearning.git"
   ]
  },
  {
   "cell_type": "code",
   "execution_count": 16,
   "id": "50629aab",
   "metadata": {},
   "outputs": [
    {
     "name": "stdout",
     "output_type": "stream",
     "text": [
      "25164150\n"
     ]
    }
   ],
   "source": [
    "n = 0\n",
    "a = 0\n",
    "for w in range(1,101):\n",
    "    n = n+w**2\n",
    "    a = a+w\n",
    "print(a**2-n)"
   ]
  },
  {
   "cell_type": "code",
   "execution_count": null,
   "id": "77b76a7d",
   "metadata": {},
   "outputs": [],
   "source": []
  }
 ],
 "metadata": {
  "kernelspec": {
   "display_name": "Python 3 (ipykernel)",
   "language": "python",
   "name": "python3"
  },
  "language_info": {
   "codemirror_mode": {
    "name": "ipython",
    "version": 3
   },
   "file_extension": ".py",
   "mimetype": "text/x-python",
   "name": "python",
   "nbconvert_exporter": "python",
   "pygments_lexer": "ipython3",
   "version": "3.9.12"
  }
 },
 "nbformat": 4,
 "nbformat_minor": 5
}

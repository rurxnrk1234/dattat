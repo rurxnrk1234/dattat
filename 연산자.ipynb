{
 "cells": [
  {
   "cell_type": "markdown",
   "id": "fe80001b",
   "metadata": {},
   "source": [
    "지수연산"
   ]
  },
  {
   "cell_type": "code",
   "execution_count": 1,
   "id": "d18544d4",
   "metadata": {},
   "outputs": [
    {
     "data": {
      "text/plain": [
       "81"
      ]
     },
     "execution_count": 1,
     "metadata": {},
     "output_type": "execute_result"
    }
   ],
   "source": [
    "3 ** 4"
   ]
  },
  {
   "cell_type": "code",
   "execution_count": 5,
   "id": "405d8a7b",
   "metadata": {},
   "outputs": [
    {
     "data": {
      "text/plain": [
       "'안녕안녕안녕'"
      ]
     },
     "execution_count": 5,
     "metadata": {},
     "output_type": "execute_result"
    }
   ],
   "source": [
    "\"안녕\" * 3"
   ]
  },
  {
   "cell_type": "code",
   "execution_count": 6,
   "id": "8e153a1a",
   "metadata": {},
   "outputs": [
    {
     "data": {
      "text/plain": [
       "'2107'"
      ]
     },
     "execution_count": 6,
     "metadata": {},
     "output_type": "execute_result"
    }
   ],
   "source": [
    "\"2\" + \"10\" + \"7\""
   ]
  },
  {
   "cell_type": "code",
   "execution_count": 9,
   "id": "ef035432",
   "metadata": {},
   "outputs": [
    {
     "name": "stdout",
     "output_type": "stream",
     "text": [
      "입력: 12\n"
     ]
    }
   ],
   "source": [
    "a = input(\"입력: \")"
   ]
  },
  {
   "cell_type": "markdown",
   "id": "63845ef2",
   "metadata": {},
   "source": [
    "시간 파싱하기\n",
    "- \"2022년 8월 10일 오전/오후 2시 32분 10초\""
   ]
  },
  {
   "cell_type": "code",
   "execution_count": 10,
   "id": "83dc8738",
   "metadata": {},
   "outputs": [
    {
     "data": {
      "text/plain": [
       "'2022-08-10 14:33:08'"
      ]
     },
     "execution_count": 10,
     "metadata": {},
     "output_type": "execute_result"
    }
   ],
   "source": [
    "import datetime\n",
    "datetime.datetime.now().strftime(\"%Y-%m-%d %H:%M:%S\")"
   ]
  },
  {
   "cell_type": "code",
   "execution_count": 26,
   "id": "7d94e302",
   "metadata": {},
   "outputs": [
    {
     "name": "stdout",
     "output_type": "stream",
     "text": [
      "2022년 08월 10일 14시 46분 08초\n"
     ]
    }
   ],
   "source": [
    "now = datetime.datetime.now().strftime(\"%Y-%m-%d %H:%M:%S\")\n",
    "year = now[:4]\n",
    "month = now[5:7]\n",
    "day = now[8:10]\n",
    "hour = now[11:13]\n",
    "minute = now[14:16]\n",
    "second = now[17:]\n",
    "\n",
    "print(f\"{year}년 {month}월 {day}일 {hour}시 {minute}분 {second}초\")"
   ]
  },
  {
   "cell_type": "code",
   "execution_count": 23,
   "id": "3434d20a",
   "metadata": {},
   "outputs": [
    {
     "data": {
      "text/plain": [
       "'2022-08-10 14:44:54'"
      ]
     },
     "execution_count": 23,
     "metadata": {},
     "output_type": "execute_result"
    }
   ],
   "source": [
    "now"
   ]
  },
  {
   "cell_type": "markdown",
   "id": "dc0c99ce",
   "metadata": {},
   "source": [
    "- input함수로 초 단위의 시간을 받습니다.\n",
    "- 그 시간을 시간, 분, 초로 나누어서 출력합니다.\n",
    "- 예시)3653을 받으면, 1시간 0분 53초를 출력"
   ]
  },
  {
   "cell_type": "code",
   "execution_count": 38,
   "id": "19de9288",
   "metadata": {},
   "outputs": [
    {
     "name": "stdout",
     "output_type": "stream",
     "text": [
      "초 단위의 시간을 입력해 주세요: 3411\n",
      "0시 56분 51초\n"
     ]
    }
   ],
   "source": [
    "time = int(input(\"초 단위의 시간을 입력해 주세요: \"))\n",
    "hour = time//3600\n",
    "minute = time%3600//60\n",
    "second = time%60\n",
    "\n",
    "print(f\"{hour}시 {minute}분 {second}초\")"
   ]
  },
  {
   "cell_type": "markdown",
   "id": "8fc79a9c",
   "metadata": {},
   "source": [
    "- input 함수로 num에 임이의 정수를 입력받습니다.\n",
    "- 입력된 수가 2의 배수이자 3의 배수이면 True, 그렇지 않으면 False를 출력합니다."
   ]
  },
  {
   "cell_type": "markdown",
   "id": "2a4440e1",
   "metadata": {},
   "source": [
    "- input 함수로 num에 임이의 정수를 입력받습니다.\n",
    "- 입력된 수가 2의 배수이거나 3의 배수이면 True, 그렇지 않으면 False를 출력합니다."
   ]
  },
  {
   "cell_type": "code",
   "execution_count": 53,
   "id": "4f52833a",
   "metadata": {},
   "outputs": [
    {
     "name": "stdout",
     "output_type": "stream",
     "text": [
      "정수를 입력하세요: 4\n"
     ]
    },
    {
     "data": {
      "text/plain": [
       "False"
      ]
     },
     "execution_count": 53,
     "metadata": {},
     "output_type": "execute_result"
    }
   ],
   "source": [
    "num = int(input(\"정수를 입력하세요: \"))\n",
    "\n",
    "num%2 == 0 and num%3 == 0"
   ]
  },
  {
   "cell_type": "code",
   "execution_count": 52,
   "id": "1ed309c4",
   "metadata": {},
   "outputs": [
    {
     "name": "stdout",
     "output_type": "stream",
     "text": [
      "정수를 입력하세요: 2\n"
     ]
    },
    {
     "data": {
      "text/plain": [
       "True"
      ]
     },
     "execution_count": 52,
     "metadata": {},
     "output_type": "execute_result"
    }
   ],
   "source": [
    "num = int(input(\"정수를 입력하세요: \"))\n",
    "\n",
    "num%2 == 0 or num%3 == 0"
   ]
  },
  {
   "cell_type": "code",
   "execution_count": null,
   "id": "155fcee4",
   "metadata": {},
   "outputs": [],
   "source": []
  }
 ],
 "metadata": {
  "kernelspec": {
   "display_name": "Python 3 (ipykernel)",
   "language": "python",
   "name": "python3"
  },
  "language_info": {
   "codemirror_mode": {
    "name": "ipython",
    "version": 3
   },
   "file_extension": ".py",
   "mimetype": "text/x-python",
   "name": "python",
   "nbconvert_exporter": "python",
   "pygments_lexer": "ipython3",
   "version": "3.9.12"
  }
 },
 "nbformat": 4,
 "nbformat_minor": 5
}
